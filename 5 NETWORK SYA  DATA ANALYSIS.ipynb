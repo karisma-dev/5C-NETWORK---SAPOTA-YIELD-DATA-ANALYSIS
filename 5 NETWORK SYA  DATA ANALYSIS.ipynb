{
 "cells": [
  {
   "cell_type": "code",
   "execution_count": 1,
   "id": "dec44671",
   "metadata": {},
   "outputs": [],
   "source": [
    "import pandas as pd"
   ]
  },
  {
   "cell_type": "code",
   "execution_count": 4,
   "id": "ba73bb67",
   "metadata": {},
   "outputs": [
    {
     "data": {
      "text/html": [
       "<div>\n",
       "<style scoped>\n",
       "    .dataframe tbody tr th:only-of-type {\n",
       "        vertical-align: middle;\n",
       "    }\n",
       "\n",
       "    .dataframe tbody tr th {\n",
       "        vertical-align: top;\n",
       "    }\n",
       "\n",
       "    .dataframe thead th {\n",
       "        text-align: right;\n",
       "    }\n",
       "</style>\n",
       "<table border=\"1\" class=\"dataframe\">\n",
       "  <thead>\n",
       "    <tr style=\"text-align: right;\">\n",
       "      <th></th>\n",
       "      <th>Date</th>\n",
       "      <th>Firm bought from</th>\n",
       "      <th>Buying price</th>\n",
       "      <th>Customer</th>\n",
       "      <th>Selling price</th>\n",
       "      <th>Quantity sold</th>\n",
       "    </tr>\n",
       "  </thead>\n",
       "  <tbody>\n",
       "    <tr>\n",
       "      <th>0</th>\n",
       "      <td>21/08/23</td>\n",
       "      <td>Vendor6</td>\n",
       "      <td>72.11</td>\n",
       "      <td>Customer7</td>\n",
       "      <td>91.58</td>\n",
       "      <td>44</td>\n",
       "    </tr>\n",
       "    <tr>\n",
       "      <th>1</th>\n",
       "      <td>21/08/23</td>\n",
       "      <td>Vendor4</td>\n",
       "      <td>75.08</td>\n",
       "      <td>Customer7</td>\n",
       "      <td>83.71</td>\n",
       "      <td>17</td>\n",
       "    </tr>\n",
       "    <tr>\n",
       "      <th>2</th>\n",
       "      <td>21/08/23</td>\n",
       "      <td>Vendor7</td>\n",
       "      <td>83.93</td>\n",
       "      <td>Customer2</td>\n",
       "      <td>103.76</td>\n",
       "      <td>15</td>\n",
       "    </tr>\n",
       "    <tr>\n",
       "      <th>3</th>\n",
       "      <td>21/08/23</td>\n",
       "      <td>Vendor7</td>\n",
       "      <td>52.01</td>\n",
       "      <td>Customer3</td>\n",
       "      <td>64.53</td>\n",
       "      <td>7</td>\n",
       "    </tr>\n",
       "    <tr>\n",
       "      <th>4</th>\n",
       "      <td>21/08/23</td>\n",
       "      <td>Vendor2</td>\n",
       "      <td>98.91</td>\n",
       "      <td>Customer5</td>\n",
       "      <td>140.92</td>\n",
       "      <td>1</td>\n",
       "    </tr>\n",
       "    <tr>\n",
       "      <th>...</th>\n",
       "      <td>...</td>\n",
       "      <td>...</td>\n",
       "      <td>...</td>\n",
       "      <td>...</td>\n",
       "      <td>...</td>\n",
       "      <td>...</td>\n",
       "    </tr>\n",
       "    <tr>\n",
       "      <th>65</th>\n",
       "      <td>27/08/23</td>\n",
       "      <td>Vendor4</td>\n",
       "      <td>64.82</td>\n",
       "      <td>Customer6</td>\n",
       "      <td>87.45</td>\n",
       "      <td>18</td>\n",
       "    </tr>\n",
       "    <tr>\n",
       "      <th>66</th>\n",
       "      <td>27/08/23</td>\n",
       "      <td>Vendor8</td>\n",
       "      <td>88.79</td>\n",
       "      <td>Customer3</td>\n",
       "      <td>105.59</td>\n",
       "      <td>5</td>\n",
       "    </tr>\n",
       "    <tr>\n",
       "      <th>67</th>\n",
       "      <td>27/08/23</td>\n",
       "      <td>Vendor5</td>\n",
       "      <td>63.30</td>\n",
       "      <td>Customer5</td>\n",
       "      <td>92.92</td>\n",
       "      <td>32</td>\n",
       "    </tr>\n",
       "    <tr>\n",
       "      <th>68</th>\n",
       "      <td>27/08/23</td>\n",
       "      <td>Vendor5</td>\n",
       "      <td>94.06</td>\n",
       "      <td>Customer5</td>\n",
       "      <td>125.67</td>\n",
       "      <td>4</td>\n",
       "    </tr>\n",
       "    <tr>\n",
       "      <th>69</th>\n",
       "      <td>27/08/23</td>\n",
       "      <td>Vendor5</td>\n",
       "      <td>56.28</td>\n",
       "      <td>Customer6</td>\n",
       "      <td>82.16</td>\n",
       "      <td>1</td>\n",
       "    </tr>\n",
       "  </tbody>\n",
       "</table>\n",
       "<p>70 rows × 6 columns</p>\n",
       "</div>"
      ],
      "text/plain": [
       "        Date Firm bought from  Buying price   Customer  Selling price  \\\n",
       "0   21/08/23          Vendor6         72.11  Customer7          91.58   \n",
       "1   21/08/23          Vendor4         75.08  Customer7          83.71   \n",
       "2   21/08/23          Vendor7         83.93  Customer2         103.76   \n",
       "3   21/08/23          Vendor7         52.01  Customer3          64.53   \n",
       "4   21/08/23          Vendor2         98.91  Customer5         140.92   \n",
       "..       ...              ...           ...        ...            ...   \n",
       "65  27/08/23          Vendor4         64.82  Customer6          87.45   \n",
       "66  27/08/23          Vendor8         88.79  Customer3         105.59   \n",
       "67  27/08/23          Vendor5         63.30  Customer5          92.92   \n",
       "68  27/08/23          Vendor5         94.06  Customer5         125.67   \n",
       "69  27/08/23          Vendor5         56.28  Customer6          82.16   \n",
       "\n",
       "    Quantity sold  \n",
       "0              44  \n",
       "1              17  \n",
       "2              15  \n",
       "3               7  \n",
       "4               1  \n",
       "..            ...  \n",
       "65             18  \n",
       "66              5  \n",
       "67             32  \n",
       "68              4  \n",
       "69              1  \n",
       "\n",
       "[70 rows x 6 columns]"
      ]
     },
     "execution_count": 4,
     "metadata": {},
     "output_type": "execute_result"
    }
   ],
   "source": [
    "data=pd.read_csv(\"/Users/karishmadev/Downloads/sales_data_1.csv\")\n",
    "data"
   ]
  },
  {
   "cell_type": "code",
   "execution_count": 15,
   "id": "7b9111a4",
   "metadata": {},
   "outputs": [
    {
     "name": "stdout",
     "output_type": "stream",
     "text": [
      "Overall Gross Margin for the business:  -1207.1999999999998\n"
     ]
    }
   ],
   "source": [
    "# 1. GROSS MARGIN FOR THEIR BUSINESS\n",
    "\n",
    "data['Gross_Margin'] = data['Buying price'] - data['Selling price']\n",
    "overall_gross_margin =data['Gross_Margin'].sum()\n",
    "print(\"Overall Gross Margin for the business: \", overall_gross_margin)"
   ]
  },
  {
   "cell_type": "code",
   "execution_count": 16,
   "id": "fa2cc689",
   "metadata": {},
   "outputs": [
    {
     "name": "stdout",
     "output_type": "stream",
     "text": [
      "Most profitable vendor:  Vendor6\n"
     ]
    }
   ],
   "source": [
    "# 2. MOST PROFTIABLE VENDOR:\n",
    "\n",
    "vendor_profit = data.groupby('Firm bought from')['Gross_Margin'].sum().idxmax()\n",
    "print(\"Most profitable vendor: \", vendor_profit)"
   ]
  },
  {
   "cell_type": "code",
   "execution_count": 17,
   "id": "7b786a87",
   "metadata": {},
   "outputs": [
    {
     "name": "stdout",
     "output_type": "stream",
     "text": [
      "Least profitable customer:  Customer8\n"
     ]
    }
   ],
   "source": [
    "# 3. LEAST PROFTIABLE VENDOR:\n",
    "\n",
    "customer_profit = data.groupby('Customer')['Gross_Margin'].sum().idxmin()\n",
    "print(\"Least profitable customer: \", customer_profit)"
   ]
  },
  {
   "cell_type": "code",
   "execution_count": 18,
   "id": "87314565",
   "metadata": {},
   "outputs": [
    {
     "name": "stdout",
     "output_type": "stream",
     "text": [
      "Most profitable day of the week:  Thursday\n"
     ]
    }
   ],
   "source": [
    "# 4. MOST PROFTIABLE DAY OF THE WEEK:\n",
    "\n",
    "data['Date'] = pd.to_datetime(data['Date'])\n",
    "data['Day_of_Week'] = data['Date'].dt.day_name()\n",
    "most_profitable_day = data.groupby('Day_of_Week')['Gross_Margin'].sum().idxmax()\n",
    "print(\"Most profitable day of the week: \", most_profitable_day)"
   ]
  },
  {
   "cell_type": "code",
   "execution_count": 19,
   "id": "2a7e3fc5",
   "metadata": {},
   "outputs": [
    {
     "name": "stdout",
     "output_type": "stream",
     "text": [
      "Least profitable day of the week:  Monday\n"
     ]
    }
   ],
   "source": [
    "# 5. LEAST PROFTIABLE DAY OF THE WEEK:\n",
    "\n",
    "least_profitable_day = data.groupby('Day_of_Week')['Gross_Margin'].sum().idxmin()\n",
    "print(\"Least profitable day of the week: \", least_profitable_day)"
   ]
  },
  {
   "cell_type": "code",
   "execution_count": 21,
   "id": "697dadb2",
   "metadata": {},
   "outputs": [
    {
     "data": {
      "text/html": [
       "<div>\n",
       "<style scoped>\n",
       "    .dataframe tbody tr th:only-of-type {\n",
       "        vertical-align: middle;\n",
       "    }\n",
       "\n",
       "    .dataframe tbody tr th {\n",
       "        vertical-align: top;\n",
       "    }\n",
       "\n",
       "    .dataframe thead th {\n",
       "        text-align: right;\n",
       "    }\n",
       "</style>\n",
       "<table border=\"1\" class=\"dataframe\">\n",
       "  <thead>\n",
       "    <tr style=\"text-align: right;\">\n",
       "      <th></th>\n",
       "      <th>Date</th>\n",
       "      <th>Firm bought from</th>\n",
       "      <th>Buying price</th>\n",
       "      <th>Quantity bought</th>\n",
       "      <th>Customer</th>\n",
       "      <th>Selling price</th>\n",
       "      <th>Quantity sold</th>\n",
       "    </tr>\n",
       "  </thead>\n",
       "  <tbody>\n",
       "    <tr>\n",
       "      <th>0</th>\n",
       "      <td>2023-08-21</td>\n",
       "      <td>Vendor6</td>\n",
       "      <td>72.11</td>\n",
       "      <td>60</td>\n",
       "      <td>Customer7</td>\n",
       "      <td>91.58</td>\n",
       "      <td>44</td>\n",
       "    </tr>\n",
       "    <tr>\n",
       "      <th>1</th>\n",
       "      <td>2023-08-21</td>\n",
       "      <td>Vendor4</td>\n",
       "      <td>75.08</td>\n",
       "      <td>92</td>\n",
       "      <td>Customer7</td>\n",
       "      <td>83.71</td>\n",
       "      <td>17</td>\n",
       "    </tr>\n",
       "    <tr>\n",
       "      <th>2</th>\n",
       "      <td>2023-08-21</td>\n",
       "      <td>Vendor7</td>\n",
       "      <td>83.93</td>\n",
       "      <td>16</td>\n",
       "      <td>Customer2</td>\n",
       "      <td>103.76</td>\n",
       "      <td>15</td>\n",
       "    </tr>\n",
       "    <tr>\n",
       "      <th>3</th>\n",
       "      <td>2023-08-21</td>\n",
       "      <td>Vendor7</td>\n",
       "      <td>52.01</td>\n",
       "      <td>62</td>\n",
       "      <td>Customer3</td>\n",
       "      <td>64.53</td>\n",
       "      <td>7</td>\n",
       "    </tr>\n",
       "    <tr>\n",
       "      <th>4</th>\n",
       "      <td>2023-08-21</td>\n",
       "      <td>Vendor2</td>\n",
       "      <td>98.91</td>\n",
       "      <td>1</td>\n",
       "      <td>Customer5</td>\n",
       "      <td>140.92</td>\n",
       "      <td>1</td>\n",
       "    </tr>\n",
       "    <tr>\n",
       "      <th>...</th>\n",
       "      <td>...</td>\n",
       "      <td>...</td>\n",
       "      <td>...</td>\n",
       "      <td>...</td>\n",
       "      <td>...</td>\n",
       "      <td>...</td>\n",
       "      <td>...</td>\n",
       "    </tr>\n",
       "    <tr>\n",
       "      <th>65</th>\n",
       "      <td>2023-08-27</td>\n",
       "      <td>Vendor4</td>\n",
       "      <td>64.82</td>\n",
       "      <td>28</td>\n",
       "      <td>Customer6</td>\n",
       "      <td>87.45</td>\n",
       "      <td>18</td>\n",
       "    </tr>\n",
       "    <tr>\n",
       "      <th>66</th>\n",
       "      <td>2023-08-27</td>\n",
       "      <td>Vendor8</td>\n",
       "      <td>88.79</td>\n",
       "      <td>14</td>\n",
       "      <td>Customer3</td>\n",
       "      <td>105.59</td>\n",
       "      <td>5</td>\n",
       "    </tr>\n",
       "    <tr>\n",
       "      <th>67</th>\n",
       "      <td>2023-08-27</td>\n",
       "      <td>Vendor5</td>\n",
       "      <td>63.30</td>\n",
       "      <td>81</td>\n",
       "      <td>Customer5</td>\n",
       "      <td>92.92</td>\n",
       "      <td>32</td>\n",
       "    </tr>\n",
       "    <tr>\n",
       "      <th>68</th>\n",
       "      <td>2023-08-27</td>\n",
       "      <td>Vendor5</td>\n",
       "      <td>94.06</td>\n",
       "      <td>18</td>\n",
       "      <td>Customer5</td>\n",
       "      <td>125.67</td>\n",
       "      <td>4</td>\n",
       "    </tr>\n",
       "    <tr>\n",
       "      <th>69</th>\n",
       "      <td>2023-08-27</td>\n",
       "      <td>Vendor5</td>\n",
       "      <td>56.28</td>\n",
       "      <td>25</td>\n",
       "      <td>Customer6</td>\n",
       "      <td>82.16</td>\n",
       "      <td>1</td>\n",
       "    </tr>\n",
       "  </tbody>\n",
       "</table>\n",
       "<p>70 rows × 7 columns</p>\n",
       "</div>"
      ],
      "text/plain": [
       "          Date Firm bought from  Buying price  Quantity bought   Customer  \\\n",
       "0   2023-08-21          Vendor6         72.11               60  Customer7   \n",
       "1   2023-08-21          Vendor4         75.08               92  Customer7   \n",
       "2   2023-08-21          Vendor7         83.93               16  Customer2   \n",
       "3   2023-08-21          Vendor7         52.01               62  Customer3   \n",
       "4   2023-08-21          Vendor2         98.91                1  Customer5   \n",
       "..         ...              ...           ...              ...        ...   \n",
       "65  2023-08-27          Vendor4         64.82               28  Customer6   \n",
       "66  2023-08-27          Vendor8         88.79               14  Customer3   \n",
       "67  2023-08-27          Vendor5         63.30               81  Customer5   \n",
       "68  2023-08-27          Vendor5         94.06               18  Customer5   \n",
       "69  2023-08-27          Vendor5         56.28               25  Customer6   \n",
       "\n",
       "    Selling price  Quantity sold  \n",
       "0           91.58             44  \n",
       "1           83.71             17  \n",
       "2          103.76             15  \n",
       "3           64.53              7  \n",
       "4          140.92              1  \n",
       "..            ...            ...  \n",
       "65          87.45             18  \n",
       "66         105.59              5  \n",
       "67          92.92             32  \n",
       "68         125.67              4  \n",
       "69          82.16              1  \n",
       "\n",
       "[70 rows x 7 columns]"
      ]
     },
     "execution_count": 21,
     "metadata": {},
     "output_type": "execute_result"
    }
   ],
   "source": [
    "\n",
    "data_2=pd.read_csv(\"/Users/karishmadev/Downloads/sales_data_2.csv\")\n",
    "data_2"
   ]
  },
  {
   "cell_type": "code",
   "execution_count": 45,
   "id": "6dac296b",
   "metadata": {},
   "outputs": [],
   "source": [
    "data_2['Gross_Profit'] = data_2['Selling price'] - data_2['Buying price']\n",
    "data_2['3_day_avg_profit'] = data_2['Gross_Profit'].rolling(window=3).mean()\n",
    "\n"
   ]
  },
  {
   "cell_type": "code",
   "execution_count": 29,
   "id": "44d8c179",
   "metadata": {},
   "outputs": [
    {
     "name": "stdout",
     "output_type": "stream",
     "text": [
      "buying_price_percentiles: 0.25    29.90\n",
      "0.50    60.76\n",
      "0.75    78.32\n",
      "Name: Buying price, dtype: float64\n"
     ]
    }
   ],
   "source": [
    "# 4. PERCENTILES FOR BUYING PRICE:\n",
    "\n",
    "buying_price_percentiles = data_2['Buying price'].quantile([0.25, 0.5, 0.75])\n",
    "print(\"buying_price_percentiles:\", buying_price_percentiles)"
   ]
  },
  {
   "cell_type": "code",
   "execution_count": 43,
   "id": "36c33691",
   "metadata": {},
   "outputs": [],
   "source": [
    "# 4. PERCENTILES FOR SELLING PRICE:\n",
    "\n",
    "selling_price_percentiles = data_2['Selling price'].quantile([0.25, 0.5, 0.75])\n",
    "below_25th_percentile = data_2[data_2['Buying price'] < buying_price_percentiles[0.25]]"
   ]
  },
  {
   "cell_type": "code",
   "execution_count": null,
   "id": "a9041e80",
   "metadata": {},
   "outputs": [],
   "source": []
  }
 ],
 "metadata": {
  "kernelspec": {
   "display_name": "Python 3 (ipykernel)",
   "language": "python",
   "name": "python3"
  },
  "language_info": {
   "codemirror_mode": {
    "name": "ipython",
    "version": 3
   },
   "file_extension": ".py",
   "mimetype": "text/x-python",
   "name": "python",
   "nbconvert_exporter": "python",
   "pygments_lexer": "ipython3",
   "version": "3.9.7"
  }
 },
 "nbformat": 4,
 "nbformat_minor": 5
}
